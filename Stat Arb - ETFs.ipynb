{
 "cells": [
  {
   "cell_type": "markdown",
   "metadata": {},
   "source": [
    "# Statistical Arbitrage in ETFs\n",
    "\n",
    "Pairs trading is a type of statistical arbitrage strategy designed to profit from the mean-reverting behaviour of a certain pair ratio. \n",
    "\n",
    "The assumption behind this strategy is that the spread from pairs that show properties of co-integration is mean reverting in nature and therefore will provide arbitrage opportunities if the spread deviates significantly from the mean."
   ]
  },
  {
   "cell_type": "code",
   "execution_count": 59,
   "metadata": {},
   "outputs": [],
   "source": [
    "import numpy as np\n",
    "import pandas as pd\n",
    "import datetime\n",
    "import matplotlib.pyplot as plt\n",
    "\n",
    "from pykalman import KalmanFilter\n",
    "import statsmodels.tsa.stattools as ts\n",
    "import statsmodels.api as sm\n",
    "\n",
    "#import seaborn as sns\n",
    "import ffn"
   ]
  },
  {
   "cell_type": "markdown",
   "metadata": {},
   "source": [
    "## ETFs \n",
    "\n",
    "ETFs provide a fertile ground for finding cointegrating price series—& thus are good candidates for pair trading. In this notebook, we will use  Canadian and Australian economies which are commodity based, so they seem likely to cointegrate. Their respective ETFs are:\n",
    "\n",
    "- EWA, iShares MSCI Australia ETF \n",
    "- EWC, iShares MSCI Canada ETF\n",
    "\n",
    "## Dataset\n",
    "Data was retrieved from CRSP via Wharton Research Data Services. Daily price data of each ETF was for the duration Jan 2010 to Jun 2018. "
   ]
  },
  {
   "cell_type": "code",
   "execution_count": 64,
   "metadata": {},
   "outputs": [
    {
     "data": {
      "text/html": [
       "<div>\n",
       "<style scoped>\n",
       "    .dataframe tbody tr th:only-of-type {\n",
       "        vertical-align: middle;\n",
       "    }\n",
       "\n",
       "    .dataframe tbody tr th {\n",
       "        vertical-align: top;\n",
       "    }\n",
       "\n",
       "    .dataframe thead th {\n",
       "        text-align: right;\n",
       "    }\n",
       "</style>\n",
       "<table border=\"1\" class=\"dataframe\">\n",
       "  <thead>\n",
       "    <tr style=\"text-align: right;\">\n",
       "      <th></th>\n",
       "      <th>EWA</th>\n",
       "      <th>EWC</th>\n",
       "    </tr>\n",
       "    <tr>\n",
       "      <th>Date</th>\n",
       "      <th></th>\n",
       "      <th></th>\n",
       "    </tr>\n",
       "  </thead>\n",
       "  <tbody>\n",
       "    <tr>\n",
       "      <th>2010-04-01</th>\n",
       "      <td>23.72</td>\n",
       "      <td>26.92</td>\n",
       "    </tr>\n",
       "    <tr>\n",
       "      <th>2010-05-01</th>\n",
       "      <td>23.79</td>\n",
       "      <td>27.07</td>\n",
       "    </tr>\n",
       "    <tr>\n",
       "      <th>2010-06-01</th>\n",
       "      <td>23.88</td>\n",
       "      <td>27.28</td>\n",
       "    </tr>\n",
       "    <tr>\n",
       "      <th>2010-07-01</th>\n",
       "      <td>23.77</td>\n",
       "      <td>27.19</td>\n",
       "    </tr>\n",
       "    <tr>\n",
       "      <th>2010-08-01</th>\n",
       "      <td>24.05</td>\n",
       "      <td>27.33</td>\n",
       "    </tr>\n",
       "  </tbody>\n",
       "</table>\n",
       "</div>"
      ],
      "text/plain": [
       "              EWA    EWC\n",
       "Date                    \n",
       "2010-04-01  23.72  26.92\n",
       "2010-05-01  23.79  27.07\n",
       "2010-06-01  23.88  27.28\n",
       "2010-07-01  23.77  27.19\n",
       "2010-08-01  24.05  27.33"
      ]
     },
     "execution_count": 64,
     "metadata": {},
     "output_type": "execute_result"
    }
   ],
   "source": [
    "etfs = pd.read_csv('EWA_EWC.csv', index_col='Date',parse_dates=True)\n",
    "etfs.head()"
   ]
  },
  {
   "cell_type": "markdown",
   "metadata": {},
   "source": [
    "## Brief Outline\n",
    "\n",
    "1. ETF pair will be tested for co-integration. An ADF test will be performed such that, the alternative hypothesis is that the pair to be tested is stationary.\n",
    "1. Run an Augmented Dickey-Fuller test on the spread to confirm statistically whether the series is mean reverting or not. We will also calculate the Hurst exponent of the spread series.\n",
    "1. Run a Kalman Filter regression on the spread series and a lagged version of the spread series in order to then use the coefficient to calculate the half-life of mean reversion.\n",
    "1. Calculate Z-scores for trading signal, define enter and out Z-score level for back-testing."
   ]
  },
  {
   "cell_type": "markdown",
   "metadata": {},
   "source": [
    "## Cointegration Test via Augmented Dickey-Fuller Test\n",
    "\n",
    "### Cointegration\n",
    "If we can find a stationary linear combination of several nonstationary price series, then these price series are cointegrated. The most common combination is that of two price series: We long one asset and simultaneously short another asset, with an appropriate allocation of capital to each asset.\n",
    "\n",
    "### Augmented Dickey-Fuller Test\n",
    "The ADF test is based on the following observation: If the price level is higher than the mean, the next move will be a downward move; if the price level is lower than the mean, the next move will be an upward move. The ADF test will find out if $\\lambda = 0 $. If the hypothesis $\\lambda = 0 $ can be rejected, that means the next move of a price change depends on the current price level, and therefore it is not a random walk. \n",
    "\n",
    "ADF test will be performed such that the alternative hypothesis is that the pair to be tested is stationary. The null hypothesis will be rejected for p-values < 0.05."
   ]
  },
  {
   "cell_type": "code",
   "execution_count": 61,
   "metadata": {},
   "outputs": [
    {
     "name": "stdout",
     "output_type": "stream",
     "text": [
      "[('EWA', 'EWC', 0.039317951436103678)]\n"
     ]
    }
   ],
   "source": [
    "def find_cointegrated_pairs(dataframe, critial_level = 0.05):\n",
    "    n = dataframe.shape[1] # the length of dateframe\n",
    "    pvalue_matrix = np.ones((n, n)) # initialize the matrix of p\n",
    "    keys = dataframe.keys() # get the column names\n",
    "    pairs = [] # initilize the list for cointegration\n",
    "    \n",
    "    for i in range(n):\n",
    "        for j in range(i+1, n): # for j bigger than i\n",
    "            stock1 = dataframe[keys[i]] # obtain the price of two contract\n",
    "            stock2 = dataframe[keys[j]]\n",
    "            result = sm.tsa.stattools.coint(stock1, stock2) # get conintegration\n",
    "            pvalue = result[1] # get the pvalue\n",
    "            pvalue_matrix[i, j] = pvalue\n",
    "            \n",
    "            if pvalue < critial_level: # if p-value less than the critical level\n",
    "                pairs.append((keys[i], keys[j], pvalue)) # record the contract with that p-value\n",
    "                \n",
    "    return pvalue_matrix, pairs\n",
    "\n",
    "pvalue_matrix, pairs = find_cointegrated_pairs(etfs); print(pairs)"
   ]
  },
  {
   "cell_type": "markdown",
   "metadata": {},
   "source": [
    "## Kalman Filter\n",
    "\n",
    "Kalman filtering, also known as linear quadratic estimation (LQE), is an algorithm that uses a series of measurements observed over time, containing statistical noise and other inaccuracies, and produces estimates of unknown variables that tend to be more accurate than those based on a single measurement alone, by estimating a joint probability distribution over the variables for each time-frame. \n",
    "\n",
    "Because the Kalman filter updates its estimates at every time step and tends to weigh recent observations more than older ones, a particularly useful application is an estimation of rolling parameters of the data. When using a Kalman filter, there’s no window length that we need to specify. This is useful for computing the moving average if that’s what we are interested in, or for smoothing out estimates of other quantities."
   ]
  },
  {
   "cell_type": "code",
   "execution_count": 46,
   "metadata": {},
   "outputs": [],
   "source": [
    "def KalmanFilterAverage(x):\n",
    "  \n",
    "    # Construct a Kalman filter\n",
    "    kf = KalmanFilter(transition_matrices = [1],\n",
    "                      observation_matrices = [1],\n",
    "                      initial_state_mean = 0,\n",
    "                      initial_state_covariance = 1,\n",
    "                      observation_covariance=1,\n",
    "                      transition_covariance=.01)\n",
    "    \n",
    "    # Use the observed values of the price to get a rolling mean\n",
    "    state_means, _ = kf.filter(x.values)\n",
    "    state_means = pd.Series(state_means.flatten(), index=x.index)\n",
    "    \n",
    "    return state_means\n",
    "\n",
    "\n",
    "# Kalman filter regression\n",
    "def KalmanFilterRegression(x,y):\n",
    "    \n",
    "    delta = 1e-3\n",
    "    trans_cov = delta / (1 - delta) * np.eye(2) # How much random walk wiggles\n",
    "    obs_mat = np.expand_dims(np.vstack([[x], [np.ones(len(x))]]).T, axis=1)\n",
    "    \n",
    "    kf = KalmanFilter(n_dim_obs=1, n_dim_state=2, # y is 1-dimensional, (alpha, beta) is 2-dimensional\n",
    "                      initial_state_mean=[0,0],\n",
    "                      initial_state_covariance=np.ones((2, 2)),\n",
    "                      transition_matrices=np.eye(2),\n",
    "                      observation_matrices=obs_mat,\n",
    "                      observation_covariance=2,\n",
    "                      transition_covariance=trans_cov)\n",
    "    \n",
    "    # Use the observations y to get running estimates and errors for the state parameters\n",
    "    state_means, state_covs = kf.filter(y.values)\n",
    "    \n",
    "    return state_means"
   ]
  },
  {
   "cell_type": "code",
   "execution_count": 47,
   "metadata": {},
   "outputs": [
    {
     "data": {
      "text/plain": [
       "Date\n",
       "2010-04-01    11.860000\n",
       "2010-05-01    15.889338\n",
       "2010-06-01    17.951102\n",
       "2010-07-01    19.181042\n",
       "2010-08-01    20.063528\n",
       "2010-11-01    20.742061\n",
       "2010-12-01    21.142425\n",
       "2010-01-13    21.507192\n",
       "2010-01-14    21.841307\n",
       "2010-01-15    22.057235\n",
       "2010-01-19    22.279660\n",
       "2010-01-20    22.390873\n",
       "2010-01-21    22.402667\n",
       "2010-01-22    22.364366\n",
       "2010-01-25    22.365779\n",
       "2010-01-26    22.326416\n",
       "2010-01-27    22.281441\n",
       "2010-01-28    22.221475\n",
       "2010-01-29    22.110606\n",
       "2010-01-02    22.061460\n",
       "2010-02-02    22.032034\n",
       "2010-03-02    21.979371\n",
       "2010-04-02    21.833284\n",
       "2010-05-02    21.713328\n",
       "2010-08-02    21.592712\n",
       "2010-09-02    21.541554\n",
       "2010-10-02    21.482925\n",
       "2010-11-02    21.499877\n",
       "2010-12-02    21.478852\n",
       "2010-02-16    21.542013\n",
       "                ...    \n",
       "2018-05-18    22.616197\n",
       "2018-05-21    22.651755\n",
       "2018-05-22    22.668711\n",
       "2018-05-23    22.672638\n",
       "2018-05-24    22.679046\n",
       "2018-05-25    22.671527\n",
       "2018-05-29    22.635234\n",
       "2018-05-30    22.649005\n",
       "2018-05-31    22.641490\n",
       "2018-01-06    22.648958\n",
       "2018-04-06    22.669033\n",
       "2018-05-06    22.677687\n",
       "2018-06-06    22.715957\n",
       "2018-07-06    22.733464\n",
       "2018-08-06    22.748354\n",
       "2018-11-06    22.773243\n",
       "2018-12-06    22.767227\n",
       "2018-06-13    22.758930\n",
       "2018-06-14    22.731445\n",
       "2018-06-15    22.708478\n",
       "2018-06-18    22.705769\n",
       "2018-06-19    22.645291\n",
       "2018-06-20    22.611494\n",
       "2018-06-21    22.588522\n",
       "2018-06-22    22.598175\n",
       "2018-06-25    22.563153\n",
       "2018-06-26    22.546682\n",
       "2018-06-27    22.512752\n",
       "2018-06-28    22.510588\n",
       "2018-06-29    22.520044\n",
       "Length: 2138, dtype: float64"
      ]
     },
     "execution_count": 47,
     "metadata": {},
     "output_type": "execute_result"
    }
   ],
   "source": [
    "KalmanFilterAverage(etfs.EWA)"
   ]
  },
  {
   "cell_type": "code",
   "execution_count": 48,
   "metadata": {},
   "outputs": [
    {
     "data": {
      "text/plain": [
       "array([[ 1.08544421,  1.08544421],\n",
       "       [ 1.08914954,  1.08834207],\n",
       "       [ 1.0925956 ,  1.09016408],\n",
       "       ..., \n",
       "       [ 1.15692285,  2.31712629],\n",
       "       [ 1.1530916 ,  2.31797018],\n",
       "       [ 1.155231  ,  2.31734261]])"
      ]
     },
     "execution_count": 48,
     "metadata": {},
     "output_type": "execute_result"
    }
   ],
   "source": [
    "KalmanFilterRegression(etfs.EWA, etfs.EWC)"
   ]
  },
  {
   "cell_type": "markdown",
   "metadata": {},
   "source": [
    "## Hurst exponent and Half-life\n",
    "\n",
    "The Hurst exponent is used as a measure of long-term memory of time series. It relates to the auto-correlations of the time series and the rate at which these decrease as the lag between pairs of values increases.\n",
    "\n",
    "To simplify things, the important info to remember here is that a time series can be characterized in the following manner with regard to the Hurst exponent (H):\n",
    "\n",
    "- H < 0.5 – The time series is mean reverting\n",
    "- H = 0.5 – The time series is a Geometric Brownian Motion\n",
    "- H > 0.5 – The time series is trending\n",
    "\n",
    "However just because a time series displays mean-reverting properties, it doesn’t necessarily mean that we can trade it profitably – there’s a difference between a series that deviates and mean reverts every week and one that takes 10 years to mean revert."
   ]
  },
  {
   "cell_type": "code",
   "execution_count": 49,
   "metadata": {},
   "outputs": [],
   "source": [
    "def half_life(spread):\n",
    "    \n",
    "    spread_lag = spread.shift(1)\n",
    "    spread_lag.iloc[0] = spread_lag.iloc[1]\n",
    "    spread_ret = spread - spread_lag\n",
    "    spread_ret.iloc[0] = spread_ret.iloc[1]\n",
    "    spread_lag2 = sm.add_constant(spread_lag)\n",
    "    model = sm.OLS(spread_ret,spread_lag2)\n",
    "    res = model.fit()\n",
    "    halflife = int(round(-np.log(2) / res.params[1],0))\n",
    "    \n",
    "    if halflife <= 0:\n",
    "        halflife = 1\n",
    "        \n",
    "    return halflife"
   ]
  },
  {
   "cell_type": "markdown",
   "metadata": {},
   "source": [
    "## Backtesting\n",
    "\n",
    "The back-test engine follows the steps:\n",
    "\n",
    "1. Calculate Spread = Y – hedge ratio * X\n",
    "1. Using Kalman Filter Regression Function to calculate hedge ratio\n",
    "1. Calculate z-score of ‘s’, using rolling mean and standard deviation for the time period of ‘half-life’ intervals. Save this as z-score\n",
    "1. Using half-life Function to calculate half life\n",
    "1. Define upper entry Z-score = 2.0, lower entry Z-score = 2.0, exit Z-score = 0.0\n",
    "1. When Z-score crosses upper entry Z-score, go SHORT; close the position with Z-score return exit Z-score\n",
    "1. When Z-score crosses lower entry Z-score, go LONG; close the position with Z-score return exit Z-score"
   ]
  },
  {
   "cell_type": "code",
   "execution_count": 50,
   "metadata": {},
   "outputs": [],
   "source": [
    "def backtest(s1, s2, x, y ):\n",
    "    \n",
    "    \"\"\" \n",
    "    INPUT:\n",
    "    s1: the symbol of contract one\n",
    "    s2: the symbol of contract two\n",
    "    x: the price series of contract one\n",
    "    y: the price series of contract two\n",
    "    \n",
    "    OUTPUT:\n",
    "    df1['cum rets']: cumulative returns in pandas data frame\n",
    "    sharpe: sharpe ratio\n",
    "    CAGR: CAGR\n",
    "    \"\"\"\n",
    "    \n",
    "    # run regression to find hedge ratio and then create spread series\n",
    "    df1 = pd.DataFrame({'y':y,'x':x})\n",
    "    state_means = KalmanFilterRegression(KalmanFilterAverage(x),KalmanFilterAverage(y))\n",
    "    \n",
    "    df1['hr'] = - state_means[:,0]\n",
    "    df1['spread'] = df1.y + (df1.x * df1.hr)\n",
    "    \n",
    "    # calculate half life\n",
    "    halflife = half_life(df1['spread'])\n",
    "    \n",
    "    # calculate z-score with window = half life period\n",
    "    meanSpread = df1.spread.rolling(window=halflife).mean()\n",
    "    stdSpread = df1.spread.rolling(window=halflife).std()\n",
    "    df1['zScore'] = (df1.spread-meanSpread)/stdSpread\n",
    "\n",
    "    ##############################################################\n",
    "    # trading logic\n",
    "    entryZscore = 2\n",
    "    exitZscore = 0\n",
    "\n",
    "    #set up num units long\n",
    "    df1['long entry'] = ((df1.zScore < - entryZscore) & ( df1.zScore.shift(1) > - entryZscore))\n",
    "    df1['long exit'] = ((df1.zScore > - exitZscore) & (df1.zScore.shift(1) < - exitZscore)) \n",
    "    \n",
    "    df1['num units long'] = np.nan \n",
    "    df1.loc[df1['long entry'],'num units long'] = 1 \n",
    "    df1.loc[df1['long exit'],'num units long'] = 0 \n",
    "    df1['num units long'][0] = 0  # df1.loc['num units long', 0] = 0 \n",
    "    df1['num units long'] = df1['num units long'].fillna(method='pad') \n",
    "    \n",
    "    #set up num units short \n",
    "    df1['short entry'] = ((df1.zScore > entryZscore) & ( df1.zScore.shift(1) < entryZscore))\n",
    "    df1['short exit'] = ((df1.zScore < exitZscore) & (df1.zScore.shift(1) > exitZscore))\n",
    "    df1.loc[df1['short entry'],'num units short'] = -1\n",
    "    df1.loc[df1['short exit'],'num units short'] = 0\n",
    "    df1['num units short'][0] = 0\n",
    "    df1['num units short'] = df1['num units short'].fillna(method='pad')\n",
    "    \n",
    "    df1['numUnits'] = df1['num units long'] + df1['num units short']\n",
    "    df1['spread pct ch'] = (df1['spread'] - df1['spread'].shift(1)) / ((df1['x'] * abs(df1['hr'])) + df1['y'])\n",
    "    df1['port rets'] = df1['spread pct ch'] * df1['numUnits'].shift(1)\n",
    "    \n",
    "    df1['cum rets'] = df1['port rets'].cumsum()\n",
    "    df1['cum rets'] = df1['cum rets'] + 1\n",
    "    \n",
    "    name = \"bt\"+ s1 + \"-\" + s2 + \".csv\"\n",
    "    df1.to_csv(name)\n",
    "\n",
    "    ##############################################################\n",
    "\n",
    "    try:\n",
    "        sharpe = ((df1['port rets'].mean() / df1['port rets'].std()) * np.sqrt(252))\n",
    "    except ZeroDivisionError:\n",
    "        sharpe = 0.0\n",
    "\n",
    "    ##############################################################\n",
    "    start_val = 1\n",
    "    end_val = df1['cum rets'].iat[-1]\n",
    "\n",
    "    start_date = df1.iloc[0].name\n",
    "    end_date = df1.iloc[-1].name\n",
    "    days = (end_date - start_date).days\n",
    "\n",
    "    CAGR = round(((float(end_val) / float(start_val)) ** (252.0/days)) - 1,4)\n",
    "\n",
    "    return df1['cum rets'], sharpe, CAGR"
   ]
  },
  {
   "cell_type": "code",
   "execution_count": 52,
   "metadata": {
    "scrolled": false
   },
   "outputs": [
    {
     "name": "stderr",
     "output_type": "stream",
     "text": [
      "/Users/jothamteo/anaconda/lib/python3.5/site-packages/ipykernel_launcher.py:43: SettingWithCopyWarning: \n",
      "A value is trying to be set on a copy of a slice from a DataFrame\n",
      "\n",
      "See the caveats in the documentation: http://pandas.pydata.org/pandas-docs/stable/indexing.html#indexing-view-versus-copy\n",
      "/Users/jothamteo/anaconda/lib/python3.5/site-packages/ipykernel_launcher.py:51: SettingWithCopyWarning: \n",
      "A value is trying to be set on a copy of a slice from a DataFrame\n",
      "\n",
      "See the caveats in the documentation: http://pandas.pydata.org/pandas-docs/stable/indexing.html#indexing-view-versus-copy\n"
     ]
    }
   ],
   "source": [
    "df_cumret, strat_sharpe, strat_CAGR = backtest('EWA','EWC', etfs.EWA, etfs.EWC)"
   ]
  },
  {
   "cell_type": "markdown",
   "metadata": {},
   "source": [
    "## Accumulated return of the ETF pair"
   ]
  },
  {
   "cell_type": "code",
   "execution_count": 55,
   "metadata": {},
   "outputs": [
    {
     "data": {
      "text/plain": [
       "<matplotlib.axes._subplots.AxesSubplot at 0x12090fe80>"
      ]
     },
     "execution_count": 55,
     "metadata": {},
     "output_type": "execute_result"
    },
    {
     "data": {
      "image/png": "[encoded data removed]",
      "text/plain": [
       "<Figure size 864x576 with 1 Axes>"
      ]
     },
     "metadata": {
      "needs_background": "light"
     },
     "output_type": "display_data"
    }
   ],
   "source": [
    "df_cumret.plot(figsize=(12,8))"
   ]
  },
  {
   "cell_type": "code",
   "execution_count": 57,
   "metadata": {},
   "outputs": [
    {
     "data": {
      "text/plain": [
       "0.91600476804035535"
      ]
     },
     "execution_count": 57,
     "metadata": {},
     "output_type": "execute_result"
    }
   ],
   "source": [
    "strat_sharpe"
   ]
  },
  {
   "cell_type": "code",
   "execution_count": 58,
   "metadata": {},
   "outputs": [
    {
     "data": {
      "text/plain": [
       "0.0098"
      ]
     },
     "execution_count": 58,
     "metadata": {},
     "output_type": "execute_result"
    }
   ],
   "source": [
    "strat_CAGR"
   ]
  },
  {
   "cell_type": "markdown",
   "metadata": {},
   "source": [
    "The back-testing algorithm can be used to analyze the minute data, hour data of other ETFs. \n",
    "\n",
    "The main limitation is that the backtest has not taken slippage and trading fees into consideration."
   ]
  },
  {
   "cell_type": "code",
   "execution_count": null,
   "metadata": {},
   "outputs": [],
   "source": []
  }
 ],
 "metadata": {
  "kernelspec": {
   "display_name": "Python 3",
   "language": "python",
   "name": "python3"
  },
  "language_info": {
   "codemirror_mode": {
    "name": "ipython",
    "version": 3
   },
   "file_extension": ".py",
   "mimetype": "text/x-python",
   "name": "python",
   "nbconvert_exporter": "python",
   "pygments_lexer": "ipython3",
   "version": "3.5.6"
  }
 },
 "nbformat": 4,
 "nbformat_minor": 2
}
